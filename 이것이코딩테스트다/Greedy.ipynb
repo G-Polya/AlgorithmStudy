{
 "metadata": {
  "language_info": {
   "codemirror_mode": {
    "name": "ipython",
    "version": 3
   },
   "file_extension": ".py",
   "mimetype": "text/x-python",
   "name": "python",
   "nbconvert_exporter": "python",
   "pygments_lexer": "ipython3",
   "version": "3.8.3-final"
  },
  "orig_nbformat": 2,
  "kernelspec": {
   "name": "python3",
   "display_name": "Python 3",
   "language": "python"
  }
 },
 "nbformat": 4,
 "nbformat_minor": 2,
 "cells": [
  {
   "cell_type": "code",
   "execution_count": 6,
   "metadata": {},
   "outputs": [
    {
     "output_type": "stream",
     "name": "stdout",
     "text": [
      "2 2 1 1\n"
     ]
    }
   ],
   "source": [
    "# 동전교환\n",
    "money = 1260\n",
    "coins = [500,100,50,10]\n",
    "coinNums = [0 for i in range(len(coins))]\n",
    "\n",
    "for i in range(len(coins)):\n",
    "    coinNums[i] = money // coins[i]\n",
    "    money -= coinNums[i] * coins[i]\n",
    "\n",
    "print(sum(coinNums))\n",
    "\n",
    "\n"
   ]
  },
  {
   "cell_type": "code",
   "execution_count": 31,
   "metadata": {},
   "outputs": [
    {
     "output_type": "stream",
     "name": "stdout",
     "text": [
      "28\n"
     ]
    }
   ],
   "source": [
    "# 실전1 큰수의 법칙 나의 풀이\n",
    "N, M, K = map(int,input().split())\n",
    "\n",
    "\n",
    "arr = list(map(int, input().split()))\n",
    "\n",
    "result = 0\n",
    "\n",
    "arr = sorted(arr,reverse=True)\n",
    "\n",
    "count = 0\n",
    "\n",
    "for i in range(M):\n",
    "    if count < K:\n",
    "        result += arr[0]\n",
    "        count += 1\n",
    "    else:\n",
    "        result += arr[1]\n",
    "        count = 0\n",
    "\n",
    "print(result)"
   ]
  },
  {
   "cell_type": "code",
   "execution_count": 47,
   "metadata": {},
   "outputs": [
    {
     "output_type": "stream",
     "name": "stdout",
     "text": [
      "46\n"
     ]
    }
   ],
   "source": [
    "# 큰수의 법칙 나동빈 풀이\n",
    "N, M, K = map(int,input().split())\n",
    "arr = list(map(int,input().split()))\n",
    "arr.sort()\n",
    "\n",
    "first = arr[N-1]\n",
    "second = arr[N-2]\n",
    "result = 0\n",
    "\n",
    "while True:\n",
    "    for i in range(K):\n",
    "        if M == 0:\n",
    "            break\n",
    "        result += first\n",
    "        M -= 1\n",
    "    if M == 0:\n",
    "        break\n",
    "    result += second\n",
    "    M -= 1\n",
    "print(result)"
   ]
  },
  {
   "cell_type": "code",
   "execution_count": 45,
   "metadata": {},
   "outputs": [
    {
     "output_type": "stream",
     "name": "stdout",
     "text": [
      "46\n"
     ]
    }
   ],
   "source": [
    "# 큰수의 법칙 다른풀이(내풀이)\n",
    "N, M, K = map(int,input().split())\n",
    "arr = list(map(int, input().split()))\n",
    "\n",
    "arr = sorted(arr,reverse=True)\n",
    "result = 0\n",
    "\n",
    "\n",
    "if M % (K+1) == 0:\n",
    "    for i in range( (M // (K+1))):\n",
    "        result += arr[0]*K + arr[1]*1\n",
    "        \n",
    "else:\n",
    "    for i in range( (M // (K+1))):\n",
    "        result += arr[0]*K + arr[1]*1\n",
    "    result += (M%(K+1)) * arr[0]\n",
    "print(result)"
   ]
  },
  {
   "cell_type": "code",
   "execution_count": null,
   "metadata": {},
   "outputs": [],
   "source": [
    "# 큰수의 법칙 다른풀이(나동빈)\n",
    "n, m, k = map(int,input().split())  # 5 9 3\n",
    "data = list(map(int,input().split())) # 2 4 5 4 6\n",
    "\n",
    "data.sort()\n",
    "first = data[n-1]\n",
    "second = data[n-2]\n",
    "\n",
    "count = (m // (k+1)) * k # 2 * 3\n",
    "count += m % (k+1)       # 2*3 + 1 = 7\n",
    "\n",
    "result = 0\n",
    "result += count * first # 7 * 6\n",
    "result += (m-count) * second # (9-7)*5\n",
    "\n",
    "print(result)"
   ]
  },
  {
   "cell_type": "code",
   "execution_count": 56,
   "metadata": {},
   "outputs": [
    {
     "output_type": "execute_result",
     "data": {
      "text/plain": [
       "[[7, 3, 1, 8], [3, 3, 3, 4]]"
      ]
     },
     "metadata": {},
     "execution_count": 56
    }
   ],
   "source": [
    "# 숫자 카드 게임_나의 풀이\n",
    "row, col = map(int, input().split())\n",
    "matrix = []\n",
    "for i in range(row):\n",
    "    temp = list(map(int, input().split()))\n",
    "    matrix.append(temp)\n",
    "\n",
    "min_number = []\n",
    "for arr in matrix:\n",
    "    min_number.append(min(arr))\n",
    "   \n",
    "print(max(min_number))"
   ]
  },
  {
   "cell_type": "code",
   "execution_count": 57,
   "metadata": {},
   "outputs": [
    {
     "output_type": "stream",
     "name": "stdout",
     "text": [
      "3\n"
     ]
    }
   ],
   "source": [
    "# 숫자 카드 게임 나동빈풀이\n",
    "n, m = map(int, input().split())\n",
    "\n",
    "result = 0\n",
    "\n",
    "for i in range(n):\n",
    "    data = list(map(int, input().split()))\n",
    "\n",
    "    min_value = 10001\n",
    "    for a in data:\n",
    "        min_value = min(min_value, a)\n",
    "    result = max(result, min_value)\n",
    "print(result)"
   ]
  },
  {
   "cell_type": "code",
   "execution_count": 4,
   "metadata": {},
   "outputs": [
    {
     "output_type": "stream",
     "name": "stdout",
     "text": [
      "3\n"
     ]
    }
   ],
   "source": [
    "# 1이 될떄 까지 나의 풀이\n",
    "n, k = map(int, input().split())\n",
    "\n",
    "count = 0\n",
    "while True:\n",
    "    if n == 1:\n",
    "        break\n",
    "\n",
    "    if n % k != 0:\n",
    "        n -= 1\n",
    "        count += 1\n",
    "    else:\n",
    "        n //= k\n",
    "        count += 1\n",
    "\n",
    "print(count)"
   ]
  },
  {
   "cell_type": "code",
   "execution_count": null,
   "metadata": {},
   "outputs": [],
   "source": [
    "# 1이 될떄 까지 나동빈 풀이\n",
    "n, k = map(int, input().split())\n",
    "result = 0\n",
    "\n",
    "while n>=k:\n",
    "    while n % k != 0:\n",
    "        n -= 1\n",
    "        result += 1\n",
    "    n //= k\n",
    "    result += 1\n",
    "\n",
    "while n > 1:\n",
    "    n -= 1\n",
    "    result += 1\n",
    "print(result)"
   ]
  },
  {
   "cell_type": "code",
   "execution_count": null,
   "metadata": {},
   "outputs": [],
   "source": [
    "# 1이 될 때까지 나동빈풀이2(한번에 빼기)\n",
    "n, k = map(int, input().split())\n",
    "result = 0\n",
    "\n",
    "while True:\n",
    "    target = (n//k)*k\n",
    "    result += (n-target)\n",
    "    n = target\n",
    "\n",
    "    if n < k:\n",
    "        break\n",
    "\n",
    "    result += 1\n",
    "    n //= k\n",
    "\n",
    "result += (n-1)\n",
    "print(result)\n"
   ]
  },
  {
   "cell_type": "code",
   "execution_count": 2,
   "metadata": {},
   "outputs": [
    {
     "output_type": "execute_result",
     "data": {
      "text/plain": [
       "1"
      ]
     },
     "metadata": {},
     "execution_count": 2
    }
   ],
   "source": [
    "arr= [1,2,3]\n",
    "min(arr)"
   ]
  },
  {
   "cell_type": "code",
   "execution_count": null,
   "metadata": {},
   "outputs": [],
   "source": []
  }
 ]
}