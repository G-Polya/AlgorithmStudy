{
 "metadata": {
  "language_info": {
   "codemirror_mode": {
    "name": "ipython",
    "version": 3
   },
   "file_extension": ".py",
   "mimetype": "text/x-python",
   "name": "python",
   "nbconvert_exporter": "python",
   "pygments_lexer": "ipython3",
   "version": "3.7.3-final"
  },
  "orig_nbformat": 2,
  "kernelspec": {
   "name": "python3",
   "display_name": "Python 3",
   "language": "python"
  }
 },
 "nbformat": 4,
 "nbformat_minor": 2,
 "cells": [
  {
   "cell_type": "code",
   "execution_count": 1,
   "metadata": {},
   "outputs": [
    {
     "output_type": "stream",
     "name": "stdout",
     "text": [
      "생성할 원소 개수를 입력한 다음 한 칸 띄우고 찾을 문자열을 입력하세요\n",
      "앞서 적은 원소 개수만큼 문자열을 입력하세요. 구분은 띄어쓰기 한 칸으로 합니다\n",
      "3\n"
     ]
    }
   ],
   "source": [
    "# 순차탐색\n",
    "def sequential_search(n, target, arr):\n",
    "    for i in range(n):\n",
    "        if target == arr[i]:\n",
    "            return i+1\n",
    "\n",
    "print(\"생성할 원소 개수를 입력한 다음 한 칸 띄우고 찾을 문자열을 입력하세요\")\n",
    "input_data = input().split()\n",
    "\n",
    "n = int(input_data[0])\n",
    "target = input_data[1]\n",
    "\n",
    "print(\"앞서 적은 원소 개수만큼 문자열을 입력하세요. 구분은 띄어쓰기 한 칸으로 합니다\")\n",
    "arr = input().split()\n",
    "\n",
    "print(sequential_search(n, target, arr))\n"
   ]
  },
  {
   "cell_type": "code",
   "execution_count": 3,
   "metadata": {},
   "outputs": [
    {
     "output_type": "stream",
     "name": "stdout",
     "text": [
      "4\n"
     ]
    }
   ],
   "source": [
    "# 이진탐색 recursive \n",
    "def binary_search(arr, target, start, end):\n",
    "    if start > end:\n",
    "        return None\n",
    "    mid = (start+end)// 2\n",
    "    if arr[mid] == target:\n",
    "        return mid\n",
    "    \n",
    "    elif target < arr[mid]:\n",
    "        return binary_search(arr,target,start, mid-1)\n",
    "    elif target > arr[mid]:\n",
    "        return binary_search(arr,target,mid+1, end)\n",
    "\n",
    "n, target = list(map(int, input().split()))\n",
    "arr = list(map(int, input().split()))\n",
    "\n",
    "result = binary_search(arr, target, 0, n-1)\n",
    "\n",
    "if result == None:\n",
    "    print(\"원소가 존재하지 않습니다\")\n",
    "else:\n",
    "    print(result+1)"
   ]
  },
  {
   "cell_type": "code",
   "execution_count": 4,
   "metadata": {},
   "outputs": [
    {
     "output_type": "error",
     "ename": "ValueError",
     "evalue": "not enough values to unpack (expected 2, got 0)",
     "traceback": [
      "\u001b[1;31m---------------------------------------------------------------------------\u001b[0m",
      "\u001b[1;31mValueError\u001b[0m                                Traceback (most recent call last)",
      "\u001b[1;32m<ipython-input-4-2fb1a68d2724>\u001b[0m in \u001b[0;36m<module>\u001b[1;34m\u001b[0m\n\u001b[0;32m     12\u001b[0m     \u001b[1;32mreturn\u001b[0m \u001b[1;32mNone\u001b[0m\u001b[1;33m\u001b[0m\u001b[1;33m\u001b[0m\u001b[0m\n\u001b[0;32m     13\u001b[0m \u001b[1;33m\u001b[0m\u001b[0m\n\u001b[1;32m---> 14\u001b[1;33m \u001b[0mn\u001b[0m\u001b[1;33m,\u001b[0m \u001b[0mtarget\u001b[0m \u001b[1;33m=\u001b[0m \u001b[0mlist\u001b[0m\u001b[1;33m(\u001b[0m\u001b[0mmap\u001b[0m\u001b[1;33m(\u001b[0m\u001b[0mint\u001b[0m\u001b[1;33m,\u001b[0m \u001b[0minput\u001b[0m\u001b[1;33m(\u001b[0m\u001b[1;33m)\u001b[0m\u001b[1;33m.\u001b[0m\u001b[0msplit\u001b[0m\u001b[1;33m(\u001b[0m\u001b[1;33m)\u001b[0m\u001b[1;33m)\u001b[0m\u001b[1;33m)\u001b[0m\u001b[1;33m\u001b[0m\u001b[1;33m\u001b[0m\u001b[0m\n\u001b[0m\u001b[0;32m     15\u001b[0m \u001b[0marr\u001b[0m \u001b[1;33m=\u001b[0m \u001b[0mlist\u001b[0m\u001b[1;33m(\u001b[0m\u001b[0mmap\u001b[0m\u001b[1;33m(\u001b[0m\u001b[0mint\u001b[0m\u001b[1;33m,\u001b[0m \u001b[0minput\u001b[0m\u001b[1;33m(\u001b[0m\u001b[1;33m)\u001b[0m\u001b[1;33m.\u001b[0m\u001b[0msplit\u001b[0m\u001b[1;33m(\u001b[0m\u001b[1;33m)\u001b[0m\u001b[1;33m)\u001b[0m\u001b[1;33m)\u001b[0m\u001b[1;33m\u001b[0m\u001b[1;33m\u001b[0m\u001b[0m\n\u001b[0;32m     16\u001b[0m \u001b[1;33m\u001b[0m\u001b[0m\n",
      "\u001b[1;31mValueError\u001b[0m: not enough values to unpack (expected 2, got 0)"
     ]
    }
   ],
   "source": [
    "# 이진탐색 iterative\n",
    "def binary_search(arr, target, start, end):\n",
    "    while start<=end:\n",
    "        mid = (start+end) // 2\n",
    "\n",
    "        if arr[mid] == target:\n",
    "            return mid\n",
    "        elif target < arr[mid]:\n",
    "            end = mid - 1\n",
    "        elif target > arr[mid]:\n",
    "            start = mid + 1\n",
    "    return None\n",
    "\n",
    "n, target = list(map(int, input().split()))\n",
    "arr = list(map(int, input().split()))\n",
    "\n",
    "result = binary_search(arr, target, 0, n-1)\n",
    "\n",
    "if result == None:\n",
    "    print(\"원소가 존재하지 않습니다\")\n",
    "else:\n",
    "    print(result+1)"
   ]
  },
  {
   "cell_type": "code",
   "execution_count": 7,
   "metadata": {},
   "outputs": [
    {
     "output_type": "stream",
     "name": "stdout",
     "text": [
      "\n"
     ]
    }
   ],
   "source": [
    "# 빠르게 입력받기\n",
    "import sys\n",
    "input_data = sys.stdin.readline().rstrip()\n",
    "print(input_data)"
   ]
  },
  {
   "cell_type": "code",
   "execution_count": 3,
   "metadata": {},
   "outputs": [],
   "source": [
    "# 부품찾기\n",
    "n = int(input())\n",
    "stored = list(map(int, input().split())) # 8 3 7 9 2\n",
    "m = int(input())\n",
    "wanted = list(map(int, input().split())) # 5 7 9\n",
    "\n",
    "def binary_search(arr, target, start, end):\n",
    "    if start > end:\n",
    "        return None\n",
    "    mid = (start+end)// 2\n",
    "    if arr[mid] == target:\n",
    "        return mid\n",
    "    \n",
    "    elif target < arr[mid]:\n",
    "        return binary_search(arr,target,start, mid-1)\n",
    "    elif target > arr[mid]:\n",
    "        return binary_search(arr,target,mid+1, end)\n",
    "\n",
    "stored.sort()\n",
    "for element in wanted:\n",
    "    if binary_search(stored, element, 0, n-1) == None:\n",
    "        print(\"no\", end=\" \")\n",
    "    else:\n",
    "        print(\"yes\", end = \" \")\n"
   ]
  },
  {
   "cell_type": "code",
   "execution_count": 22,
   "metadata": {},
   "outputs": [],
   "source": [
    "# 계수정렬을 이용\n",
    "n = int(input())\n",
    "stored = list(map(int, input().split()))\n",
    "\n",
    "arr = [0] * (max(stored)+1)\n",
    "for element in stored:\n",
    "    arr[element] = 1\n",
    "\n",
    "m = int(input())\n",
    "wanted = list(map(int, input().split()))\n",
    "for element in wanted:\n",
    "    if arr[element] == 1:\n",
    "        print(\"yes\", end=\" \")\n",
    "    else:\n",
    "        print(\"no\", end=\" \")\n"
   ]
  },
  {
   "cell_type": "code",
   "execution_count": 28,
   "metadata": {},
   "outputs": [],
   "source": [
    "# set 이용\n",
    "n = int(input())\n",
    "stored = list(map(int, input().split()))\n",
    "\n",
    "\n",
    "m = int(input())\n",
    "wanted = list(map(int, input().split()))\n",
    "\n",
    "stored = set(stored)\n",
    "\n",
    "for element in wanted:\n",
    "    if element in stored:\n",
    "        print(\"yes\", end=\" \")\n",
    "    else:\n",
    "        print(\"no\", end=\" \")"
   ]
  },
  {
   "cell_type": "code",
   "execution_count": 30,
   "metadata": {},
   "outputs": [],
   "source": [
    "# 떡볶이 떡 만들기\n",
    "n, m = map(int, input().split()) # n = 4, m = 6\n",
    "lengths = list(map(int,input().split())) # 19 15 10 17"
   ]
  },
  {
   "cell_type": "code",
   "execution_count": 32,
   "metadata": {},
   "outputs": [
    {
     "output_type": "stream",
     "name": "stdout",
     "text": [
      "15\n"
     ]
    }
   ],
   "source": [
    "start = 0\n",
    "end = max(lengths)\n",
    "result = 0\n",
    "while start <= end:\n",
    "    total = 0\n",
    "    mid = (start+end) // 2\n",
    "\n",
    "    for element in lengths:\n",
    "        if element > mid:\n",
    "            total += element - mid\n",
    "    \n",
    "    if total < m:\n",
    "        end = mid - 1\n",
    "    else:\n",
    "        result = mid\n",
    "        start = mid + 1\n",
    "print(result)\n",
    "    \n"
   ]
  },
  {
   "cell_type": "code",
   "execution_count": 4,
   "metadata": {},
   "outputs": [
    {
     "output_type": "stream",
     "name": "stdout",
     "text": [
      "2\n"
     ]
    }
   ],
   "source": [
    "# 8-5 \n",
    "n = int(input())\n",
    "d = [0] * 30001\n",
    "\n",
    "for i in range(2, n+1):\n",
    "    d[i] = d[i-1] + 1\n",
    "\n",
    "    if i % 2 == 0:\n",
    "        d[i] = min(d[i], d[i//2]+1)\n",
    "\n",
    "    if i % 3 == 0:\n",
    "        d[i] = min(d[i], d[i//3] + 1)\n",
    "    \n",
    "\n",
    "\n",
    "    if i % 5 ==0:\n",
    "        d[i] = min(d[i], d[i//5]+1)\n",
    "    \n",
    "    \n",
    "\n",
    "print(d[n])"
   ]
  },
  {
   "cell_type": "code",
   "execution_count": null,
   "metadata": {},
   "outputs": [],
   "source": []
  }
 ]
}