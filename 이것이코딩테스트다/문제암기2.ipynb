{
 "metadata": {
  "language_info": {
   "codemirror_mode": {
    "name": "ipython",
    "version": 3
   },
   "file_extension": ".py",
   "mimetype": "text/x-python",
   "name": "python",
   "nbconvert_exporter": "python",
   "pygments_lexer": "ipython3",
   "version": "3.7.3-final"
  },
  "orig_nbformat": 2,
  "kernelspec": {
   "name": "python3",
   "display_name": "Python 3.7.3 64-bit (conda)",
   "metadata": {
    "interpreter": {
     "hash": "b3ba2566441a7c06988d0923437866b63cedc61552a5af99d1f4fb67d367b25f"
    }
   }
  }
 },
 "nbformat": 4,
 "nbformat_minor": 2,
 "cells": [
  {
   "cell_type": "code",
   "execution_count": null,
   "metadata": {},
   "outputs": [],
   "source": []
  },
  {
   "cell_type": "code",
   "execution_count": null,
   "metadata": {},
   "outputs": [],
   "source": []
  },
  {
   "cell_type": "code",
   "execution_count": 4,
   "metadata": {},
   "outputs": [
    {
     "output_type": "stream",
     "name": "stdout",
     "text": [
      "0\n2\n3\n1\n2\n4\n"
     ]
    }
   ],
   "source": [
    "import heapq\n",
    "\n",
    "INF = int(1e9)\n",
    "n,m = map(int, input().split())\n",
    "start = int(input())\n",
    "graph = [[] for _ in range(n+1)]\n",
    "distance = [INF] * (n+1)\n",
    "\n",
    "for _ in range(m):\n",
    "    a,b,c = map(int, input().split())\n",
    "    graph[a].append((b,c))\n",
    "\n",
    "def dijkstra(start):\n",
    "    q = []\n",
    "    heapq.heappush(q,(0,start))\n",
    "    distance[start] = 0\n",
    "\n",
    "    while q:\n",
    "        dist, now = heapq.heappop(q)\n",
    "        if distance[now] < dist:\n",
    "            continue\n",
    "\n",
    "        for i in graph[now]:\n",
    "            cost = dist + i[1]\n",
    "            if cost < distance[i[0]] :\n",
    "                distance[i[0]] = cost\n",
    "                heapq.heappush(q,(cost,i[0]))\n",
    "\n",
    "dijkstra(start)\n",
    "\n",
    "for i in range(1,n+1):\n",
    "    if distance[i] == INF:\n",
    "        print(\"INF\")\n",
    "    else:\n",
    "        print(distance[i])"
   ]
  },
  {
   "cell_type": "code",
   "execution_count": 7,
   "metadata": {},
   "outputs": [
    {
     "output_type": "stream",
     "name": "stdout",
     "text": [
      "0 4 8 6 \n3 0 7 9 \n5 9 0 4 \n7 11 2 0 \n"
     ]
    }
   ],
   "source": [
    "INF = int(1e9)\n",
    "n = int(input())\n",
    "m = int(input())\n",
    "graph = [[INF] * (n+1) for _ in range(n+1)]\n",
    "\n",
    "\n",
    "\n",
    "\n",
    "for a in range(1,n+1):\n",
    "    for b in range(1,n+1):\n",
    "        if a == b:\n",
    "            graph[a][b] = 0\n",
    "\n",
    "for _ in range(m):\n",
    "    a,b,c = map(int,input().split())\n",
    "    graph[a][b] = c\n",
    "\n",
    "for k in range(1,n+1):\n",
    "    for a in range(1,n+1):\n",
    "        for b in range(1,n+1):\n",
    "            graph[a][b] = min(graph[a][b], graph[a][k] + graph[k][b])\n",
    "\n",
    "for a in range(1,n+1):\n",
    "    for b in range(1,n+1):\n",
    "        if graph[a][b] == INF:\n",
    "            print(\"INF\", end=\" \")\n",
    "        else:\n",
    "            print(graph[a][b],end=\" \")\n",
    "    print()"
   ]
  },
  {
   "cell_type": "code",
   "execution_count": null,
   "metadata": {},
   "outputs": [],
   "source": []
  }
 ]
}