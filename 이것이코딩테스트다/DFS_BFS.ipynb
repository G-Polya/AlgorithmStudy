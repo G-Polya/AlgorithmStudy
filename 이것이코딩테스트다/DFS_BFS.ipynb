{
 "metadata": {
  "language_info": {
   "codemirror_mode": {
    "name": "ipython",
    "version": 3
   },
   "file_extension": ".py",
   "mimetype": "text/x-python",
   "name": "python",
   "nbconvert_exporter": "python",
   "pygments_lexer": "ipython3",
   "version": "3.8.3-final"
  },
  "orig_nbformat": 2,
  "kernelspec": {
   "name": "python3",
   "display_name": "Python 3",
   "language": "python"
  }
 },
 "nbformat": 4,
 "nbformat_minor": 2,
 "cells": [
  {
   "cell_type": "code",
   "execution_count": 1,
   "metadata": {},
   "outputs": [
    {
     "output_type": "stream",
     "name": "stdout",
     "text": [
      "[5, 2, 3, 1]\n"
     ]
    }
   ],
   "source": [
    "# 스택\n",
    "stk = []\n",
    "stk.append(5)\n",
    "stk.append(2)\n",
    "stk.append(3)\n",
    "stk.append(7)\n",
    "stk.pop()\n",
    "stk.append(1)\n",
    "stk.append(4)\n",
    "stk.pop()\n",
    "print(stk)"
   ]
  },
  {
   "cell_type": "code",
   "execution_count": 2,
   "metadata": {},
   "outputs": [
    {
     "output_type": "execute_result",
     "data": {
      "text/plain": [
       "deque([3, 7, 1, 4])"
      ]
     },
     "metadata": {},
     "execution_count": 2
    }
   ],
   "source": [
    "# 큐\n",
    "from collections import deque\n",
    "\n",
    "que = deque()\n",
    "\n",
    "que.append(5)\n",
    "que.append(2)\n",
    "que.append(3)\n",
    "que.append(7)\n",
    "que.popleft()\n",
    "que.append(1)\n",
    "\n",
    "que.append(4)\n",
    "que.popleft()\n",
    "que\n",
    "\n"
   ]
  },
  {
   "cell_type": "code",
   "execution_count": 3,
   "metadata": {},
   "outputs": [
    {
     "output_type": "execute_result",
     "data": {
      "text/plain": [
       "deque([3, 7, 1, 4])"
      ]
     },
     "metadata": {},
     "execution_count": 3
    }
   ],
   "source": [
    "import queue\n",
    "que = queue.deque()\n",
    "que.append(5)\n",
    "que.append(2)\n",
    "que.append(3)\n",
    "que.append(7)\n",
    "que.popleft()\n",
    "que.append(1)\n",
    "\n",
    "que.append(4)\n",
    "que.popleft()\n",
    "que\n"
   ]
  },
  {
   "cell_type": "code",
   "execution_count": 4,
   "metadata": {},
   "outputs": [
    {
     "output_type": "stream",
     "name": "stdout",
     "text": [
      "1 번쨰 재귀 함수에서 2 번째 재귀함수를 호출합니다\n2 번쨰 재귀 함수에서 3 번째 재귀함수를 호출합니다\n3 번쨰 재귀 함수에서 4 번째 재귀함수를 호출합니다\n4 번쨰 재귀 함수에서 5 번째 재귀함수를 호출합니다\n5 번쨰 재귀 함수에서 6 번째 재귀함수를 호출합니다\n6 번쨰 재귀 함수에서 7 번째 재귀함수를 호출합니다\n7 번쨰 재귀 함수에서 8 번째 재귀함수를 호출합니다\n8 번쨰 재귀 함수에서 9 번째 재귀함수를 호출합니다\n9 번쨰 재귀 함수에서 10 번째 재귀함수를 호출합니다\n10 번쨰 재귀 함수에서 11 번째 재귀함수를 호출합니다\n11 번쨰 재귀 함수에서 12 번째 재귀함수를 호출합니다\n12 번쨰 재귀 함수에서 13 번째 재귀함수를 호출합니다\n13 번쨰 재귀 함수에서 14 번째 재귀함수를 호출합니다\n14 번쨰 재귀 함수에서 15 번째 재귀함수를 호출합니다\n15 번쨰 재귀 함수에서 16 번째 재귀함수를 호출합니다\n16 번쨰 재귀 함수에서 17 번째 재귀함수를 호출합니다\n17 번쨰 재귀 함수에서 18 번째 재귀함수를 호출합니다\n18 번쨰 재귀 함수에서 19 번째 재귀함수를 호출합니다\n19 번쨰 재귀 함수에서 20 번째 재귀함수를 호출합니다\n20 번쨰 재귀 함수에서 21 번째 재귀함수를 호출합니다\n21 번쨰 재귀 함수에서 22 번째 재귀함수를 호출합니다\n22 번쨰 재귀 함수에서 23 번째 재귀함수를 호출합니다\n23 번쨰 재귀 함수에서 24 번째 재귀함수를 호출합니다\n24 번쨰 재귀 함수에서 25 번째 재귀함수를 호출합니다\n25 번쨰 재귀 함수에서 26 번째 재귀함수를 호출합니다\n26 번쨰 재귀 함수에서 27 번째 재귀함수를 호출합니다\n27 번쨰 재귀 함수에서 28 번째 재귀함수를 호출합니다\n28 번쨰 재귀 함수에서 29 번째 재귀함수를 호출합니다\n29 번쨰 재귀 함수에서 30 번째 재귀함수를 호출합니다\n30 번쨰 재귀 함수에서 31 번째 재귀함수를 호출합니다\n31 번쨰 재귀 함수에서 32 번째 재귀함수를 호출합니다\n32 번쨰 재귀 함수에서 33 번째 재귀함수를 호출합니다\n33 번쨰 재귀 함수에서 34 번째 재귀함수를 호출합니다\n34 번쨰 재귀 함수에서 35 번째 재귀함수를 호출합니다\n35 번쨰 재귀 함수에서 36 번째 재귀함수를 호출합니다\n36 번쨰 재귀 함수에서 37 번째 재귀함수를 호출합니다\n37 번쨰 재귀 함수에서 38 번째 재귀함수를 호출합니다\n38 번쨰 재귀 함수에서 39 번째 재귀함수를 호출합니다\n39 번쨰 재귀 함수에서 40 번째 재귀함수를 호출합니다\n40 번쨰 재귀 함수에서 41 번째 재귀함수를 호출합니다\n41 번쨰 재귀 함수에서 42 번째 재귀함수를 호출합니다\n42 번쨰 재귀 함수에서 43 번째 재귀함수를 호출합니다\n43 번쨰 재귀 함수에서 44 번째 재귀함수를 호출합니다\n44 번쨰 재귀 함수에서 45 번째 재귀함수를 호출합니다\n45 번쨰 재귀 함수에서 46 번째 재귀함수를 호출합니다\n46 번쨰 재귀 함수에서 47 번째 재귀함수를 호출합니다\n47 번쨰 재귀 함수에서 48 번째 재귀함수를 호출합니다\n48 번쨰 재귀 함수에서 49 번째 재귀함수를 호출합니다\n49 번쨰 재귀 함수에서 50 번째 재귀함수를 호출합니다\n50 번쨰 재귀 함수에서 51 번째 재귀함수를 호출합니다\n51 번쨰 재귀 함수에서 52 번째 재귀함수를 호출합니다\n52 번쨰 재귀 함수에서 53 번째 재귀함수를 호출합니다\n53 번쨰 재귀 함수에서 54 번째 재귀함수를 호출합니다\n54 번쨰 재귀 함수에서 55 번째 재귀함수를 호출합니다\n55 번쨰 재귀 함수에서 56 번째 재귀함수를 호출합니다\n56 번쨰 재귀 함수에서 57 번째 재귀함수를 호출합니다\n57 번쨰 재귀 함수에서 58 번째 재귀함수를 호출합니다\n58 번쨰 재귀 함수에서 59 번째 재귀함수를 호출합니다\n59 번쨰 재귀 함수에서 60 번째 재귀함수를 호출합니다\n60 번쨰 재귀 함수에서 61 번째 재귀함수를 호출합니다\n61 번쨰 재귀 함수에서 62 번째 재귀함수를 호출합니다\n62 번쨰 재귀 함수에서 63 번째 재귀함수를 호출합니다\n63 번쨰 재귀 함수에서 64 번째 재귀함수를 호출합니다\n64 번쨰 재귀 함수에서 65 번째 재귀함수를 호출합니다\n65 번쨰 재귀 함수에서 66 번째 재귀함수를 호출합니다\n66 번쨰 재귀 함수에서 67 번째 재귀함수를 호출합니다\n67 번쨰 재귀 함수에서 68 번째 재귀함수를 호출합니다\n68 번쨰 재귀 함수에서 69 번째 재귀함수를 호출합니다\n69 번쨰 재귀 함수에서 70 번째 재귀함수를 호출합니다\n70 번쨰 재귀 함수에서 71 번째 재귀함수를 호출합니다\n71 번쨰 재귀 함수에서 72 번째 재귀함수를 호출합니다\n72 번쨰 재귀 함수에서 73 번째 재귀함수를 호출합니다\n73 번쨰 재귀 함수에서 74 번째 재귀함수를 호출합니다\n74 번쨰 재귀 함수에서 75 번째 재귀함수를 호출합니다\n75 번쨰 재귀 함수에서 76 번째 재귀함수를 호출합니다\n76 번쨰 재귀 함수에서 77 번째 재귀함수를 호출합니다\n77 번쨰 재귀 함수에서 78 번째 재귀함수를 호출합니다\n78 번쨰 재귀 함수에서 79 번째 재귀함수를 호출합니다\n79 번쨰 재귀 함수에서 80 번째 재귀함수를 호출합니다\n80 번쨰 재귀 함수에서 81 번째 재귀함수를 호출합니다\n81 번쨰 재귀 함수에서 82 번째 재귀함수를 호출합니다\n82 번쨰 재귀 함수에서 83 번째 재귀함수를 호출합니다\n83 번쨰 재귀 함수에서 84 번째 재귀함수를 호출합니다\n84 번쨰 재귀 함수에서 85 번째 재귀함수를 호출합니다\n85 번쨰 재귀 함수에서 86 번째 재귀함수를 호출합니다\n86 번쨰 재귀 함수에서 87 번째 재귀함수를 호출합니다\n87 번쨰 재귀 함수에서 88 번째 재귀함수를 호출합니다\n88 번쨰 재귀 함수에서 89 번째 재귀함수를 호출합니다\n89 번쨰 재귀 함수에서 90 번째 재귀함수를 호출합니다\n90 번쨰 재귀 함수에서 91 번째 재귀함수를 호출합니다\n91 번쨰 재귀 함수에서 92 번째 재귀함수를 호출합니다\n92 번쨰 재귀 함수에서 93 번째 재귀함수를 호출합니다\n93 번쨰 재귀 함수에서 94 번째 재귀함수를 호출합니다\n94 번쨰 재귀 함수에서 95 번째 재귀함수를 호출합니다\n95 번쨰 재귀 함수에서 96 번째 재귀함수를 호출합니다\n96 번쨰 재귀 함수에서 97 번째 재귀함수를 호출합니다\n97 번쨰 재귀 함수에서 98 번째 재귀함수를 호출합니다\n98 번쨰 재귀 함수에서 99 번째 재귀함수를 호출합니다\n99 번쨰 재귀 함수에서 100 번째 재귀함수를 호출합니다\n99 번쨰 재귀 함수를 종료합니다\n98 번쨰 재귀 함수를 종료합니다\n97 번쨰 재귀 함수를 종료합니다\n96 번쨰 재귀 함수를 종료합니다\n95 번쨰 재귀 함수를 종료합니다\n94 번쨰 재귀 함수를 종료합니다\n93 번쨰 재귀 함수를 종료합니다\n92 번쨰 재귀 함수를 종료합니다\n91 번쨰 재귀 함수를 종료합니다\n90 번쨰 재귀 함수를 종료합니다\n89 번쨰 재귀 함수를 종료합니다\n88 번쨰 재귀 함수를 종료합니다\n87 번쨰 재귀 함수를 종료합니다\n86 번쨰 재귀 함수를 종료합니다\n85 번쨰 재귀 함수를 종료합니다\n84 번쨰 재귀 함수를 종료합니다\n83 번쨰 재귀 함수를 종료합니다\n82 번쨰 재귀 함수를 종료합니다\n81 번쨰 재귀 함수를 종료합니다\n80 번쨰 재귀 함수를 종료합니다\n79 번쨰 재귀 함수를 종료합니다\n78 번쨰 재귀 함수를 종료합니다\n77 번쨰 재귀 함수를 종료합니다\n76 번쨰 재귀 함수를 종료합니다\n75 번쨰 재귀 함수를 종료합니다\n74 번쨰 재귀 함수를 종료합니다\n73 번쨰 재귀 함수를 종료합니다\n72 번쨰 재귀 함수를 종료합니다\n71 번쨰 재귀 함수를 종료합니다\n70 번쨰 재귀 함수를 종료합니다\n69 번쨰 재귀 함수를 종료합니다\n68 번쨰 재귀 함수를 종료합니다\n67 번쨰 재귀 함수를 종료합니다\n66 번쨰 재귀 함수를 종료합니다\n65 번쨰 재귀 함수를 종료합니다\n64 번쨰 재귀 함수를 종료합니다\n63 번쨰 재귀 함수를 종료합니다\n62 번쨰 재귀 함수를 종료합니다\n61 번쨰 재귀 함수를 종료합니다\n60 번쨰 재귀 함수를 종료합니다\n59 번쨰 재귀 함수를 종료합니다\n58 번쨰 재귀 함수를 종료합니다\n57 번쨰 재귀 함수를 종료합니다\n56 번쨰 재귀 함수를 종료합니다\n55 번쨰 재귀 함수를 종료합니다\n54 번쨰 재귀 함수를 종료합니다\n53 번쨰 재귀 함수를 종료합니다\n52 번쨰 재귀 함수를 종료합니다\n51 번쨰 재귀 함수를 종료합니다\n50 번쨰 재귀 함수를 종료합니다\n49 번쨰 재귀 함수를 종료합니다\n48 번쨰 재귀 함수를 종료합니다\n47 번쨰 재귀 함수를 종료합니다\n46 번쨰 재귀 함수를 종료합니다\n45 번쨰 재귀 함수를 종료합니다\n44 번쨰 재귀 함수를 종료합니다\n43 번쨰 재귀 함수를 종료합니다\n42 번쨰 재귀 함수를 종료합니다\n41 번쨰 재귀 함수를 종료합니다\n40 번쨰 재귀 함수를 종료합니다\n39 번쨰 재귀 함수를 종료합니다\n38 번쨰 재귀 함수를 종료합니다\n37 번쨰 재귀 함수를 종료합니다\n36 번쨰 재귀 함수를 종료합니다\n35 번쨰 재귀 함수를 종료합니다\n34 번쨰 재귀 함수를 종료합니다\n33 번쨰 재귀 함수를 종료합니다\n32 번쨰 재귀 함수를 종료합니다\n31 번쨰 재귀 함수를 종료합니다\n30 번쨰 재귀 함수를 종료합니다\n29 번쨰 재귀 함수를 종료합니다\n28 번쨰 재귀 함수를 종료합니다\n27 번쨰 재귀 함수를 종료합니다\n26 번쨰 재귀 함수를 종료합니다\n25 번쨰 재귀 함수를 종료합니다\n24 번쨰 재귀 함수를 종료합니다\n23 번쨰 재귀 함수를 종료합니다\n22 번쨰 재귀 함수를 종료합니다\n21 번쨰 재귀 함수를 종료합니다\n20 번쨰 재귀 함수를 종료합니다\n19 번쨰 재귀 함수를 종료합니다\n18 번쨰 재귀 함수를 종료합니다\n17 번쨰 재귀 함수를 종료합니다\n16 번쨰 재귀 함수를 종료합니다\n15 번쨰 재귀 함수를 종료합니다\n14 번쨰 재귀 함수를 종료합니다\n13 번쨰 재귀 함수를 종료합니다\n12 번쨰 재귀 함수를 종료합니다\n11 번쨰 재귀 함수를 종료합니다\n10 번쨰 재귀 함수를 종료합니다\n9 번쨰 재귀 함수를 종료합니다\n8 번쨰 재귀 함수를 종료합니다\n7 번쨰 재귀 함수를 종료합니다\n6 번쨰 재귀 함수를 종료합니다\n5 번쨰 재귀 함수를 종료합니다\n4 번쨰 재귀 함수를 종료합니다\n3 번쨰 재귀 함수를 종료합니다\n2 번쨰 재귀 함수를 종료합니다\n1 번쨰 재귀 함수를 종료합니다\n"
     ]
    }
   ],
   "source": [
    "# 재귀함수 5-3\n",
    "def recursive_function(i):\n",
    "    if i == 100:\n",
    "        return\n",
    "    print(i, \"번쨰 재귀 함수에서\", i+1,\"번째 재귀함수를 호출합니다\")\n",
    "    recursive_function(i+1)\n",
    "    print(i, \"번쨰 재귀 함수를 종료합니다\")\n",
    "recursive_function(1)"
   ]
  },
  {
   "cell_type": "code",
   "execution_count": 5,
   "metadata": {},
   "outputs": [
    {
     "output_type": "stream",
     "name": "stdout",
     "text": [
      "recursive_factorial(5):  120\niterative_factorial(5):  120\n"
     ]
    }
   ],
   "source": [
    "# 재귀적으로 팩토리얼 구현\n",
    "def recursive_factorial(n):\n",
    "    if n <= 1:\n",
    "        return 1\n",
    "    \n",
    "    return n * recursive_factorial(n-1)\n",
    "\n",
    "def iterative_factorial(n):\n",
    "    result = 1\n",
    "    for i in range(1, n+1):\n",
    "        result *= i\n",
    "    return result\n",
    "\n",
    "print(\"recursive_factorial(5): \", recursive_factorial(5))\n",
    "print(\"iterative_factorial(5): \", iterative_factorial(5))"
   ]
  },
  {
   "cell_type": "code",
   "execution_count": 6,
   "metadata": {},
   "outputs": [
    {
     "output_type": "stream",
     "name": "stdout",
     "text": [
      "[[0, 7, 5], [7, 0, 999999999], [5, 999999999, 0]]\n"
     ]
    }
   ],
   "source": [
    "# 인접행렬 예제\n",
    "INF = 999999999\n",
    "\n",
    "graph = [\n",
    "    [0,7,5],\n",
    "    [7,0,INF],\n",
    "    [5,INF, 0]\n",
    "]\n",
    "\n",
    "print(graph)"
   ]
  },
  {
   "cell_type": "code",
   "execution_count": 7,
   "metadata": {},
   "outputs": [
    {
     "output_type": "stream",
     "name": "stdout",
     "text": [
      "[[(1, 7), (2, 5)], [(0, 7)], [(0, 5)]]\n"
     ]
    }
   ],
   "source": [
    "# 인접리스트 예제\n",
    "graph = [[] for _ in range(3)]\n",
    "graph[0].append((1,7))\n",
    "graph[0].append((2,5))\n",
    "\n",
    "graph[1].append((0,7))\n",
    "\n",
    "graph[2].append((0,5))\n",
    "print(graph)\n"
   ]
  },
  {
   "cell_type": "code",
   "execution_count": 8,
   "metadata": {},
   "outputs": [
    {
     "output_type": "stream",
     "name": "stdout",
     "text": [
      "1 2 7 6 8 3 4 5 "
     ]
    }
   ],
   "source": [
    "# DFS\n",
    "\n",
    "def dfs(graph, v, visited): # v는 시작\n",
    "    visited[v] = True\n",
    "    print(v, end=\" \")\n",
    "\n",
    "    for i in graph[v]: # 현재 노드에 인접하는 노드들에 대해서 graph[1] >> 2,3,8에 대해서 \n",
    "        if not visited[i]: # 해당 노드(2,3,8)를 방문하지 않았으면\n",
    "            dfs(graph, i, visited) # dfs(graph, 2, visited) >> graph[1] >> 1,7에 대해서 \n",
    "                                   # 재귀함수 = 스택이므로 DFS(스택으로 구현)\n",
    "\n",
    "# 인접행렬은 아니고, 인접리스트\n",
    "graph = [\n",
    "    [], # dummy\n",
    "    [2,3,8],\n",
    "    [1,7],\n",
    "    [1,4,5],\n",
    "    [3,5],\n",
    "    [3,4],\n",
    "    [7],\n",
    "    [2,6,8],\n",
    "    [1,7]\n",
    "]\n",
    "numOfNodes = 9\n",
    "visited = [False] * numOfNodes\n",
    "dfs(graph,1,visited)"
   ]
  },
  {
   "cell_type": "code",
   "execution_count": 9,
   "metadata": {},
   "outputs": [
    {
     "output_type": "stream",
     "name": "stdout",
     "text": [
      "1 2 3 8 7 4 5 6 "
     ]
    }
   ],
   "source": [
    "# BFS\n",
    "def bfs(graph, start, visited):\n",
    "    queue = deque([start])\n",
    "    visited[start] = True\n",
    "    \n",
    "\n",
    "    while queue:\n",
    "        v = queue.popleft()\n",
    "        print(v, end=\" \")\n",
    "        for i in graph[v]:\n",
    "            if not visited[i]:\n",
    "                queue.append(i)\n",
    "                visited[i] = True\n",
    "\n",
    "graph = [\n",
    "    [], # dummy\n",
    "    [2,3,8],\n",
    "    [1,7],\n",
    "    [1,4,5],\n",
    "    [3,5],\n",
    "    [3,4],\n",
    "    [7],\n",
    "    [2,6,8],\n",
    "    [1,7]\n",
    "]\n",
    "\n",
    "visited = [False] * 9\n",
    "bfs(graph,1,visited)\n",
    "\n"
   ]
  },
  {
   "cell_type": "code",
   "execution_count": 10,
   "metadata": {},
   "outputs": [
    {
     "output_type": "error",
     "ename": "NameError",
     "evalue": "name 'matrix' is not defined",
     "traceback": [
      "\u001b[1;31m---------------------------------------------------------------------------\u001b[0m",
      "\u001b[1;31mNameError\u001b[0m                                 Traceback (most recent call last)",
      "\u001b[1;32m<ipython-input-10-bb80114129f5>\u001b[0m in \u001b[0;36m<module>\u001b[1;34m\u001b[0m\n\u001b[0;32m      4\u001b[0m             \u001b[0mprint\u001b[0m\u001b[1;33m(\u001b[0m\u001b[0mmatrix\u001b[0m\u001b[1;33m[\u001b[0m\u001b[0mi\u001b[0m\u001b[1;33m]\u001b[0m\u001b[1;33m[\u001b[0m\u001b[0mj\u001b[0m\u001b[1;33m]\u001b[0m\u001b[1;33m,\u001b[0m \u001b[0mend\u001b[0m\u001b[1;33m=\u001b[0m\u001b[1;34m\" \"\u001b[0m\u001b[1;33m)\u001b[0m\u001b[1;33m\u001b[0m\u001b[1;33m\u001b[0m\u001b[0m\n\u001b[0;32m      5\u001b[0m         \u001b[0mprint\u001b[0m\u001b[1;33m(\u001b[0m\u001b[1;33m)\u001b[0m\u001b[1;33m\u001b[0m\u001b[1;33m\u001b[0m\u001b[0m\n\u001b[1;32m----> 6\u001b[1;33m \u001b[0mprintMatrix\u001b[0m\u001b[1;33m(\u001b[0m\u001b[0mmatrix\u001b[0m\u001b[1;33m)\u001b[0m\u001b[1;33m\u001b[0m\u001b[1;33m\u001b[0m\u001b[0m\n\u001b[0m",
      "\u001b[1;31mNameError\u001b[0m: name 'matrix' is not defined"
     ]
    }
   ],
   "source": [
    "def printMatrix(matrix):\n",
    "    for i in range(len(matrix)):\n",
    "        for j in range(len(matrix[0])):\n",
    "            print(matrix[i][j], end=\" \")\n",
    "        print()\n",
    "printMatrix(matrix)\n"
   ]
  },
  {
   "cell_type": "code",
   "execution_count": 39,
   "metadata": {},
   "outputs": [
    {
     "output_type": "error",
     "ename": "ValueError",
     "evalue": "not enough values to unpack (expected 2, got 0)",
     "traceback": [
      "\u001b[1;31m---------------------------------------------------------------------------\u001b[0m",
      "\u001b[1;31mValueError\u001b[0m                                Traceback (most recent call last)",
      "\u001b[1;32m<ipython-input-39-d7e0022c0b1a>\u001b[0m in \u001b[0;36m<module>\u001b[1;34m\u001b[0m\n\u001b[0;32m      1\u001b[0m \u001b[1;31m# 음료수 얼려먹기\u001b[0m\u001b[1;33m\u001b[0m\u001b[1;33m\u001b[0m\u001b[1;33m\u001b[0m\u001b[0m\n\u001b[1;32m----> 2\u001b[1;33m \u001b[0mn\u001b[0m\u001b[1;33m,\u001b[0m \u001b[0mm\u001b[0m \u001b[1;33m=\u001b[0m \u001b[0mmap\u001b[0m\u001b[1;33m(\u001b[0m\u001b[0mint\u001b[0m\u001b[1;33m,\u001b[0m \u001b[0minput\u001b[0m\u001b[1;33m(\u001b[0m\u001b[1;33m)\u001b[0m\u001b[1;33m.\u001b[0m\u001b[0msplit\u001b[0m\u001b[1;33m(\u001b[0m\u001b[1;33m)\u001b[0m\u001b[1;33m)\u001b[0m\u001b[1;33m\u001b[0m\u001b[1;33m\u001b[0m\u001b[0m\n\u001b[0m\u001b[0;32m      3\u001b[0m \u001b[0mmatrix\u001b[0m \u001b[1;33m=\u001b[0m \u001b[1;33m[\u001b[0m\u001b[1;33m]\u001b[0m\u001b[1;33m\u001b[0m\u001b[1;33m\u001b[0m\u001b[0m\n\u001b[0;32m      4\u001b[0m \u001b[1;32mfor\u001b[0m \u001b[0mi\u001b[0m \u001b[1;32min\u001b[0m \u001b[0mrange\u001b[0m\u001b[1;33m(\u001b[0m\u001b[0mn\u001b[0m\u001b[1;33m)\u001b[0m\u001b[1;33m:\u001b[0m\u001b[1;33m\u001b[0m\u001b[1;33m\u001b[0m\u001b[0m\n\u001b[0;32m      5\u001b[0m     \u001b[0mmatrix\u001b[0m\u001b[1;33m.\u001b[0m\u001b[0mappend\u001b[0m\u001b[1;33m(\u001b[0m\u001b[0mlist\u001b[0m\u001b[1;33m(\u001b[0m\u001b[0mmap\u001b[0m\u001b[1;33m(\u001b[0m\u001b[0mint\u001b[0m\u001b[1;33m,\u001b[0m\u001b[0minput\u001b[0m\u001b[1;33m(\u001b[0m\u001b[1;33m)\u001b[0m\u001b[1;33m.\u001b[0m\u001b[0msplit\u001b[0m\u001b[1;33m(\u001b[0m\u001b[1;33m)\u001b[0m\u001b[1;33m)\u001b[0m \u001b[1;33m)\u001b[0m\u001b[1;33m)\u001b[0m\u001b[1;33m\u001b[0m\u001b[1;33m\u001b[0m\u001b[0m\n",
      "\u001b[1;31mValueError\u001b[0m: not enough values to unpack (expected 2, got 0)"
     ]
    }
   ],
   "source": [
    "# 음료수 얼려먹기\n",
    "n, m = map(int, input().split())\n",
    "matrix = []\n",
    "for i in range(n):\n",
    "    matrix.append(list(map(int,input().split()) ))\n",
    "\n",
    "\n",
    "def dfs(matrix, x,y):\n",
    "    if x<=-1 or x>=n or y<=-1 or y>=m:\n",
    "        return False\n",
    "    \n",
    "    if matrix[x][y] == 0:\n",
    "        matrix[x][y] = 1\n",
    "        dfs(matrix,x-1,y)\n",
    "        dfs(matrix,x, y-1)\n",
    "        dfs(matrix,x+1,y)\n",
    "        dfs(matrix,x,y+1)\n",
    "        return True\n",
    "    return False\n",
    "\n",
    "result = 0\n",
    "for i in range(n):\n",
    "    for j in range(m):\n",
    "        if dfs(matrix,i,j) == True:\n",
    "            result += 1\n",
    "print(result)\n",
    "\n",
    "    \n"
   ]
  },
  {
   "cell_type": "code",
   "execution_count": 12,
   "metadata": {},
   "outputs": [
    {
     "output_type": "stream",
     "name": "stdout",
     "text": [
      "1\n"
     ]
    }
   ],
   "source": [
    "# 미로탈출\n",
    "#n, m = map(int, input().split())\n",
    "n, m = 5,6\n",
    "\n",
    "graph = [[1,0,1,0,1,0],\n",
    "         [1,1,1,1,1,1],\n",
    "         [0,0,0,0,0,1],\n",
    "         [1,1,1,1,1,1],\n",
    "         [1,1,1,1,1,1]]\n",
    "\n",
    "dx = [-1,1,0,0]\n",
    "dy = [0,0,-1,1]\n",
    "\n",
    "def bfs(graph, x, y):\n",
    "    que = deque()\n",
    "    que.append((x,y))\n",
    "\n",
    "    while que:\n",
    "        x,y = que.popleft()\n",
    "        for i in range(4):\n",
    "            nx = x + dx[i]\n",
    "            ny = y + dy[i]\n",
    "            if nx < 0 or ny <0 or nx >= n or ny >=0:\n",
    "                continue\n",
    "\n",
    "            if graph[nx][ny] == 0:\n",
    "                continue\n",
    "\n",
    "            if graph[nx][ny] == 1:\n",
    "                graph[nx][ny] = graph[x][y] + 1\n",
    "                que.append((nx,ny))\n",
    "    return graph[n-1][m-1]\n",
    "\n",
    "print(bfs(graph,0,0))"
   ]
  },
  {
   "cell_type": "code",
   "execution_count": null,
   "metadata": {},
   "outputs": [],
   "source": []
  }
 ]
}