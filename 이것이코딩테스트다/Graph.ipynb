{
 "metadata": {
  "language_info": {
   "codemirror_mode": {
    "name": "ipython",
    "version": 3
   },
   "file_extension": ".py",
   "mimetype": "text/x-python",
   "name": "python",
   "nbconvert_exporter": "python",
   "pygments_lexer": "ipython3",
   "version": "3.8.3-final"
  },
  "orig_nbformat": 2,
  "kernelspec": {
   "name": "python3",
   "display_name": "Python 3",
   "language": "python"
  }
 },
 "nbformat": 4,
 "nbformat_minor": 2,
 "cells": [
  {
   "cell_type": "code",
   "execution_count": 1,
   "metadata": {},
   "outputs": [
    {
     "output_type": "stream",
     "name": "stdout",
     "text": [
      "각 원소가 속한 집합: 1 1 1 1 5 5 부모테이블: 1 1 2 1 5 5 "
     ]
    }
   ],
   "source": [
    "def find_parent(parent, x):\n",
    "    if parent[x] != x: # 부모는 인덱스와 내용물이 같다. 즉, 같지 않다면 부모가 아님\n",
    "        return find_parent(parent, parent[x])\n",
    "    return x\n",
    "\n",
    "def union_parent(parent, a,b):\n",
    "    a = find_parent(parent,a) # 각자 부모찾기\n",
    "    b = find_parent(parent,b)\n",
    "\n",
    "    if a < b: # a의 부모가 b의 부모보다 작으면 \n",
    "        parent[b] = a # b의 부모를 a의 부모로 한다\n",
    "    else:\n",
    "        parent[a] = b\n",
    "\n",
    "v, e = map(int,input().split())\n",
    "parent = [0] * (v+1)\n",
    "\n",
    "for i in range(1,v+1):\n",
    "    parent[i] = i\n",
    "\n",
    "for i in range(e):\n",
    "    a,b = map(int, input().split())\n",
    "    union_parent(parent,a,b)\n",
    "\n",
    "print(\"각 원소가 속한 집합: \",end=\"\")\n",
    "for i in range(1,v+1):\n",
    "    print(find_parent(parent,i), end= \" \")\n",
    "print()\n",
    "print(\"부모테이블: \",end=\"\")\n",
    "for i in range(1,v+1):\n",
    "    print(parent[i],end=\" \")\n",
    "\n"
   ]
  },
  {
   "cell_type": "code",
   "execution_count": null,
   "metadata": {},
   "outputs": [],
   "source": [
    "# 경로압축\n",
    "def find_parent(parent, x):\n",
    "    if parent[x] != x: # 부모는 인덱스와 내용물이 같다. 즉, 같지 않다면 부모가 아님\n",
    "        parent[x] = find_parent(parent, parent[x])\n",
    "    return parent[x]\n",
    "\n",
    "def union_parent(parent, a,b):\n",
    "    a = find_parent(parent,a) # 각자 부모찾기\n",
    "    b = find_parent(parent,b)\n",
    "\n",
    "    if a < b: # a의 부모가 b의 부모보다 작으면 \n",
    "        parent[b] = a # b의 부모를 a의 부모로 한다\n",
    "    else:\n",
    "        parent[a] = b\n",
    "\n",
    "v, e = map(int,input().split())\n",
    "parent = [0] * (v+1)\n",
    "\n",
    "for i in range(1,v+1):\n",
    "    parent[i] = i\n",
    "\n",
    "for i in range(e):\n",
    "    a,b = map(int, input().split())\n",
    "    union_parent(parent,a,b)\n",
    "\n",
    "print(\"각 원소가 속한 집합: \",end=\"\")\n",
    "for i in range(1,v+1):\n",
    "    print(find_parent(parent,i), end= \" \")\n",
    "print()\n",
    "print(\"부모테이블: \",end=\"\")\n",
    "for i in range(1,v+1):\n",
    "    print(parent[i],end=\" \")\n",
    "\n"
   ]
  },
  {
   "cell_type": "code",
   "execution_count": null,
   "metadata": {},
   "outputs": [],
   "source": [
    "# 사이클 찾기\n",
    "def find_parent(parent, x):\n",
    "    if parent[x] != x: # 부모는 인덱스와 내용물이 같다. 즉, 같지 않다면 부모가 아님\n",
    "        parent[x] = find_parent(parent, parent[x])\n",
    "    return parent[x]\n",
    "\n",
    "def union_parent(parent, a,b):\n",
    "    a = find_parent(parent,a) # 각자 부모찾기\n",
    "    b = find_parent(parent,b)\n",
    "\n",
    "    if a < b: # a의 부모가 b의 부모보다 작으면 \n",
    "        parent[b] = a # b의 부모를 a의 부모로 한다\n",
    "    else:\n",
    "        parent[a] = b\n",
    "\n",
    "v, e = map(int,input().split())\n",
    "parent = [0] * (v+1)\n",
    "\n",
    "for i in range(1,v+1):\n",
    "    parent[i] = i\n",
    "\n",
    "cycle = False\n",
    "\n",
    "for i in range(e):\n",
    "    a,b = map(int,input().split())\n",
    "    if find_parent(parent,a) == find_parent(parent,b):\n",
    "        cycle = True\n",
    "        break\n",
    "    else:\n",
    "        union_parent(parent,a,b)\n",
    "\n",
    "if cycle:\n",
    "    print(\"사이클이 발생했습니다\")\n",
    "else:\n",
    "    print(\"사이클이 발생하지 않았습니다\")"
   ]
  },
  {
   "cell_type": "code",
   "execution_count": 5,
   "metadata": {},
   "outputs": [
    {
     "output_type": "stream",
     "name": "stdout",
     "text": [
      "159\n"
     ]
    }
   ],
   "source": [
    "# 크루스칼 알고리즘\n",
    "def find_parent(parent, x):\n",
    "    if parent[x] != x: # 부모는 인덱스와 내용물이 같다. 즉, 같지 않다면 부모가 아님\n",
    "        parent[x] = find_parent(parent, parent[x])\n",
    "    return parent[x]\n",
    "\n",
    "def union_parent(parent, a,b):\n",
    "    a = find_parent(parent,a) # 각자 부모찾기\n",
    "    b = find_parent(parent,b)\n",
    "\n",
    "    if a < b: # a의 부모가 b의 부모보다 작으면 \n",
    "        parent[b] = a # b의 부모를 a의 부모로 한다\n",
    "    else:\n",
    "        parent[a] = b\n",
    "\n",
    "v, e = map(int,input().split())\n",
    "parent = [0] * (v+1)\n",
    "\n",
    "for i in range(1,v+1):\n",
    "    parent[i] = i\n",
    "\n",
    "edges = []\n",
    "result = 0\n",
    "\n",
    "for _ in range(e):\n",
    "    a,b,cost = map(int,input().split())\n",
    "    edges.append((cost,a,b))\n",
    "\n",
    "edges.sort()\n",
    "\n",
    "for edge in edges:\n",
    "    cost, a, b = edge\n",
    "\n",
    "    if find_parent(parent,a) != find_parent(parent,b):\n",
    "        union_parent(parent,a,b)\n",
    "        result += cost\n",
    "\n",
    "print(result)"
   ]
  },
  {
   "cell_type": "code",
   "execution_count": 6,
   "metadata": {},
   "outputs": [],
   "source": [
    "# 위상정렬\n",
    "from collections import deque\n",
    "v,e = map(int, input().split())\n",
    "indegree = [0] * (v+1)\n",
    "graph = [[] for i in range(v+1)]\n",
    "\n",
    "for _ in range(e):\n",
    "    a,b = map(int, input().split())\n",
    "    graph[a].append(b) # a에서 나가서 b로 들어감\n",
    "    indegree[b] += 1 # b로 들어가는 간선의 개수 += 1\n"
   ]
  },
  {
   "cell_type": "code",
   "execution_count": 9,
   "metadata": {},
   "outputs": [
    {
     "output_type": "stream",
     "name": "stdout",
     "text": [
      "[[], [2, 5], [3, 6], [4], [7], [6], [4], []]\n[0, 0, 1, 1, 2, 1, 2, 1]\n"
     ]
    }
   ],
   "source": [
    "print(graph)\n",
    "print(indegree)"
   ]
  },
  {
   "cell_type": "code",
   "execution_count": 10,
   "metadata": {},
   "outputs": [
    {
     "output_type": "stream",
     "name": "stdout",
     "text": [
      "1 2 5 3 6 4 7 "
     ]
    }
   ],
   "source": [
    "def topology_sort():\n",
    "    result = []\n",
    "    q = deque()\n",
    "\n",
    "    for i in range(1, v+1):\n",
    "        if indegree[i] == 0: # 들어오는 간선이 0인 노드를 큐에 삽입\n",
    "            q.append(i)\n",
    "\n",
    "    while q:\n",
    "        now = q.popleft()\n",
    "        result.append(now)\n",
    "        for i in graph[now]:\n",
    "            indegree[i] -= 1\n",
    "            if indegree[i] == 0: # 들어오는 간선이 0이 되는 노드를 큐에 삽입\n",
    "                q.append(i)\n",
    "\n",
    "    for i in result:\n",
    "        print(i, end= \" \")\n",
    "topology_sort()"
   ]
  },
  {
   "cell_type": "code",
   "execution_count": 1,
   "metadata": {},
   "outputs": [],
   "source": [
    "# 팀결성\n",
    "def find_parent(parent, x):\n",
    "    if parent[x] != x: # 부모는 인덱스와 내용물이 같다. 즉, 같지 않다면 부모가 아님\n",
    "        parent[x] = find_parent(parent, parent[x])\n",
    "    return parent[x]\n",
    "\n",
    "def union_parent(parent, a,b):\n",
    "    a = find_parent(parent,a) # 각자 부모찾기\n",
    "    b = find_parent(parent,b)\n",
    "\n",
    "    if a < b: # a의 부모가 b의 부모보다 작으면 \n",
    "        parent[b] = a # b의 부모를 a의 부모로 한다\n",
    "    else:\n",
    "        parent[a] = b\n",
    "\n",
    "n,m = map(int,input().split())"
   ]
  },
  {
   "cell_type": "code",
   "execution_count": 3,
   "metadata": {},
   "outputs": [],
   "source": [
    "parent = [0] * (n+1)\n",
    "\n",
    "for i in range(1,n+1):\n",
    "    parent[i] = i\n",
    "\n",
    "operators = []\n",
    "\n",
    "for _ in range(m):\n",
    "    op,a,b = map(int, input().split())\n",
    "    operators.append((op,a,b))\n"
   ]
  },
  {
   "cell_type": "code",
   "execution_count": 5,
   "metadata": {},
   "outputs": [
    {
     "output_type": "stream",
     "name": "stdout",
     "text": [
      "No\nNo\nYes\n"
     ]
    }
   ],
   "source": [
    "for op in operators:\n",
    "    if op[0] == 0:\n",
    "        union_parent(parent,op[1],op[2])\n",
    "    elif op[0] == 1:\n",
    "        if find_parent(parent,op[1]) == find_parent(parent,op[2]):\n",
    "            print(\"Yes\")\n",
    "        else:\n",
    "            print(\"No\")"
   ]
  },
  {
   "cell_type": "code",
   "execution_count": 12,
   "metadata": {},
   "outputs": [],
   "source": [
    "# 도시분할\n",
    "# 크루스칼 알고리즘\n",
    "def find_parent(parent, x):\n",
    "    if parent[x] != x: # 부모는 인덱스와 내용물이 같다. 즉, 같지 않다면 부모가 아님\n",
    "        parent[x] = find_parent(parent, parent[x])\n",
    "    return parent[x]\n",
    "\n",
    "def union_parent(parent, a,b):\n",
    "    a = find_parent(parent,a) # 각자 부모찾기\n",
    "    b = find_parent(parent,b)\n",
    "\n",
    "    if a < b: # a의 부모가 b의 부모보다 작으면 \n",
    "        parent[b] = a # b의 부모를 a의 부모로 한다\n",
    "    else:\n",
    "        parent[a] = b\n",
    "\n",
    "n, m = map(int,input().split())\n",
    "parent = [0] * (n+1)\n",
    "\n",
    "for i in range(1,n+1):\n",
    "    parent[i] = i\n",
    "\n",
    "edges = []\n",
    "result = 0\n",
    "\n",
    "for _ in range(m):\n",
    "    a,b,cost = map(int,input().split())\n",
    "    edges.append((cost,a,b))\n",
    "\n",
    "edges.sort()\n",
    "last = 0\n"
   ]
  },
  {
   "cell_type": "code",
   "execution_count": 13,
   "metadata": {},
   "outputs": [
    {
     "output_type": "stream",
     "name": "stdout",
     "text": [
      "8\n"
     ]
    }
   ],
   "source": [
    "for edge in edges:\n",
    "    cost, a, b = edge\n",
    "\n",
    "    if find_parent(parent,a) != find_parent(parent,b):\n",
    "        union_parent(parent,a,b)\n",
    "        result += cost\n",
    "        last = cost\n",
    "        \n",
    "\n",
    "print(result - last)"
   ]
  },
  {
   "cell_type": "code",
   "execution_count": 14,
   "metadata": {},
   "outputs": [],
   "source": [
    "# 커리큘럼\n",
    "from collections import deque\n",
    "\n",
    "n = int(input())\n",
    "indegree = [0] * (n+1)\n",
    "graph = [[] for i in range(n+1)]\n",
    "time = [0] * (n+1)\n",
    "\n",
    "for i in range(1,n+1):\n",
    "    data = list(map(int,input().split())) # 10 -1 입력                             # 10 1 -1\n",
    "    time[i] = data[0]                     # 1번 강의(indeX)에 시간 10 저장          # 2번강의(index)에 시간 10 저장하고\n",
    "    for x in data[1:-1]:                                                           # 1, -1\n",
    "        indegree[i] += 1\n",
    "        graph[x].append(i)                                                         # graph[1].append(2), graph[-1].append\n",
    "    \n"
   ]
  },
  {
   "cell_type": "code",
   "execution_count": 17,
   "metadata": {},
   "outputs": [
    {
     "output_type": "stream",
     "name": "stdout",
     "text": [
      "10\n20\n14\n18\n17\n"
     ]
    }
   ],
   "source": [
    "import copy\n",
    "def topology_sort():\n",
    "    result = copy.deepcopy(time)\n",
    "    q = deque()\n",
    "\n",
    "    for i in range(1, n+1):\n",
    "        if indegree[i]==0:\n",
    "            q.append(i)\n",
    "\n",
    "    while q:\n",
    "        now = q.popleft()\n",
    "\n",
    "        for i in graph[now]:\n",
    "            result[i] = max(result[i], result[now]+time[i])\n",
    "            indegree[i] -= 1\n",
    "\n",
    "            if indegree[i] == 0:\n",
    "                q.append(i)\n",
    "\n",
    "    for i in range(1,n+1):\n",
    "        print(result[i])\n",
    "\n",
    "topology_sort()"
   ]
  },
  {
   "cell_type": "code",
   "execution_count": null,
   "metadata": {},
   "outputs": [],
   "source": []
  }
 ]
}