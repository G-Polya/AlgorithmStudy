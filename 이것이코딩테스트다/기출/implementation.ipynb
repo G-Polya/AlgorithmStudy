{
 "metadata": {
  "language_info": {
   "codemirror_mode": {
    "name": "ipython",
    "version": 3
   },
   "file_extension": ".py",
   "mimetype": "text/x-python",
   "name": "python",
   "nbconvert_exporter": "python",
   "pygments_lexer": "ipython3",
   "version": "3.7.3-final"
  },
  "orig_nbformat": 2,
  "kernelspec": {
   "name": "python3",
   "display_name": "Python 3.7.3 64-bit (conda)",
   "metadata": {
    "interpreter": {
     "hash": "b3ba2566441a7c06988d0923437866b63cedc61552a5af99d1f4fb67d367b25f"
    }
   }
  }
 },
 "nbformat": 4,
 "nbformat_minor": 2,
 "cells": [
  {
   "cell_type": "code",
   "execution_count": 4,
   "metadata": {},
   "outputs": [
    {
     "output_type": "execute_result",
     "data": {
      "text/plain": [
       "['1', '2', '3', '4', '0', '2']"
      ]
     },
     "metadata": {},
     "execution_count": 4
    }
   ],
   "source": [
    "n = input()\n",
    "n = list(n)\n",
    "\n",
    "if len(n) % 2 == 0:\n",
    "    mid = len(n) // 2\n",
    "    front = 0\n",
    "    end = 0\n",
    "    for i in n[:mid]:\n",
    "        front += int(i)\n",
    "    for i in n[mid:]:\n",
    "        end += int(i)\n",
    "\n",
    "    if front == end:\n",
    "        print(\"LUCKY\")\n",
    "    else:\n",
    "        print(\"READY\")\n",
    "else:\n",
    "    print(\"wrong input\")"
   ]
  },
  {
   "cell_type": "code",
   "execution_count": 48,
   "metadata": {},
   "outputs": [
    {
     "output_type": "stream",
     "name": "stdout",
     "text": [
      "ADDIJJJKKLSS20\n"
     ]
    }
   ],
   "source": [
    "s = input()\n",
    "s = list(s)\n",
    "s.sort()\n",
    "\n",
    "count = 0\n",
    "for i in s:\n",
    "    if 48<=ord(i)<=57:\n",
    "        count+=1\n",
    "\n",
    "totalNum = 0\n",
    "for i in s[:count]:\n",
    "    totalNum += int(i)\n",
    "\n",
    "concatStr = \"\"\n",
    "for i in s[count:]:\n",
    "    concatStr += i\n",
    "\n",
    "result = concatStr+str(totalNum)\n",
    "print(result)"
   ]
  },
  {
   "cell_type": "code",
   "execution_count": 50,
   "metadata": {},
   "outputs": [],
   "source": [
    "s = \"abcabcabcabcabcabcdededededede\"\n",
    "\n",
    "def solution(s):\n",
    "    pass"
   ]
  },
  {
   "cell_type": "code",
   "execution_count": 59,
   "metadata": {},
   "outputs": [
    {
     "output_type": "execute_result",
     "data": {
      "text/plain": [
       "[[0, 0, 0, 0, 0, 0],\n",
       " [0, 0, 0, 0, 0, 0],\n",
       " [0, 0, 0, 0, 0, 0],\n",
       " [0, 0, 0, 0, 0, 0],\n",
       " [0, 0, 0, 0, 0, 0],\n",
       " [0, 0, 0, 0, 0, 0]]"
      ]
     },
     "metadata": {},
     "execution_count": 59
    }
   ],
   "source": [
    "# Q11 뱀\n",
    "n = int(input())\n",
    "board = [[0] * n for _ in range(1,n+1)]\n",
    "board\n",
    "\n",
    "\n"
   ]
  },
  {
   "cell_type": "code",
   "execution_count": 61,
   "metadata": {},
   "outputs": [],
   "source": [
    "k = int(input())\n",
    "\n",
    "for _ in range(k):\n",
    "    row, col = map(int,input().split())\n",
    "    board[row][col] = 1"
   ]
  },
  {
   "cell_type": "code",
   "execution_count": 62,
   "metadata": {},
   "outputs": [
    {
     "output_type": "execute_result",
     "data": {
      "text/plain": [
       "[[0, 0, 0, 0, 0, 0],\n",
       " [0, 0, 0, 0, 0, 0],\n",
       " [0, 0, 0, 0, 0, 1],\n",
       " [0, 0, 0, 0, 1, 0],\n",
       " [0, 0, 0, 0, 0, 0],\n",
       " [0, 0, 0, 1, 0, 0]]"
      ]
     },
     "metadata": {},
     "execution_count": 62
    }
   ],
   "source": [
    "board"
   ]
  },
  {
   "cell_type": "code",
   "execution_count": null,
   "metadata": {},
   "outputs": [],
   "source": [
    "l = int(input())"
   ]
  }
 ]
}