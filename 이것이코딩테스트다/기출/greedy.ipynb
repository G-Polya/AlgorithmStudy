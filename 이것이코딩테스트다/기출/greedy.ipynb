{
 "metadata": {
  "language_info": {
   "codemirror_mode": {
    "name": "ipython",
    "version": 3
   },
   "file_extension": ".py",
   "mimetype": "text/x-python",
   "name": "python",
   "nbconvert_exporter": "python",
   "pygments_lexer": "ipython3",
   "version": "3.7.3-final"
  },
  "orig_nbformat": 2,
  "kernelspec": {
   "name": "python3",
   "display_name": "Python 3.7.3 64-bit (conda)",
   "metadata": {
    "interpreter": {
     "hash": "b3ba2566441a7c06988d0923437866b63cedc61552a5af99d1f4fb67d367b25f"
    }
   }
  }
 },
 "nbformat": 4,
 "nbformat_minor": 2,
 "cells": [
  {
   "cell_type": "code",
   "execution_count": 4,
   "metadata": {},
   "outputs": [],
   "source": [
    "# 1 모험가 길드\n",
    "n = int(input())\n",
    "fears = list(map(int,input().split()))\n",
    "# n = 5\n",
    "# fears = [2,3,1,2,2]\n",
    "\n",
    "count = 0\n",
    "fears.sort() # 1 2 2 2 3\n",
    "\n",
    "groups = 0\n",
    "for fear in fears: \n",
    "    count += 1\n",
    "\n",
    "    if count >= fear:\n",
    "        groups += 1\n",
    "        count = 0\n",
    "\n",
    "groups"
   ]
  },
  {
   "cell_type": "code",
   "execution_count": 20,
   "metadata": {},
   "outputs": [
    {
     "output_type": "execute_result",
     "data": {
      "text/plain": [
       "576"
      ]
     },
     "metadata": {},
     "execution_count": 20
    }
   ],
   "source": [
    "# 2 곱하기 혹은 더하기\n",
    "\n",
    "s = list(map(int,input()))\n",
    "\n",
    "result = s[0]\n",
    "\n",
    "for i in range(1,len(s)):\n",
    "    num = s[i]\n",
    "\n",
    "    if result <= 1 or num <=1:\n",
    "        result += num\n",
    "    else:\n",
    "        result *= num\n",
    "\n",
    "result"
   ]
  },
  {
   "cell_type": "code",
   "execution_count": 32,
   "metadata": {},
   "outputs": [],
   "source": [
    "s = input()"
   ]
  },
  {
   "cell_type": "code",
   "execution_count": 34,
   "metadata": {},
   "outputs": [
    {
     "output_type": "stream",
     "name": "stdout",
     "text": [
      "1\n"
     ]
    }
   ],
   "source": [
    "count0 = 0\n",
    "count1 = 0\n",
    "\n",
    "if s[0] == '1':\n",
    "    count0 += 1\n",
    "else:\n",
    "    count1 += 1\n",
    "\n",
    "for i in range(len(s)-1):\n",
    "    if s[i] == s[i+1]:\n",
    "        if s[i+1] == '1':\n",
    "            count0 += 1\n",
    "        else:\n",
    "            count1 += 1\n",
    "print(min(count0,count1))\n"
   ]
  },
  {
   "cell_type": "code",
   "execution_count": null,
   "metadata": {},
   "outputs": [],
   "source": []
  }
 ]
}