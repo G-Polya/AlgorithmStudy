{
 "metadata": {
  "language_info": {
   "codemirror_mode": {
    "name": "ipython",
    "version": 3
   },
   "file_extension": ".py",
   "mimetype": "text/x-python",
   "name": "python",
   "nbconvert_exporter": "python",
   "pygments_lexer": "ipython3",
   "version": "3.7.3-final"
  },
  "orig_nbformat": 2,
  "kernelspec": {
   "name": "python3",
   "display_name": "Python 3.7.3 64-bit (conda)",
   "metadata": {
    "interpreter": {
     "hash": "b3ba2566441a7c06988d0923437866b63cedc61552a5af99d1f4fb67d367b25f"
    }
   }
  }
 },
 "nbformat": 4,
 "nbformat_minor": 2,
 "cells": [
  {
   "cell_type": "code",
   "execution_count": 1,
   "metadata": {},
   "outputs": [],
   "source": [
    "#15 특정 거리의 도시 찾기\n",
    "n,m,k,x = map(int,input().split())\n",
    "\n",
    "graph = [[] for _ in range(n+1)]\n",
    "for _ in range(m):\n",
    "    a,b = map(int,input().split())\n",
    "    graph[a].append(b)\n",
    "distance = [-1] * (n+1)\n",
    "distance[x] = 0\n",
    "\n",
    "from collections import deque\n",
    "\n",
    "q = deque([x])\n",
    "while q:\n",
    "    now = q.popleft()\n",
    "    for next_node in graph[now]:\n",
    "        if distance[next_node] == -1:\n",
    "            distance[next_node] = distance[now] +1\n",
    "            q.append(next_node)\n",
    "\n",
    "check = False\n",
    "for i in range(1, n+1):\n",
    "    if distance[i] == k:\n",
    "        print(k)\n",
    "        check = True\n",
    "\n",
    "if check == False :\n",
    "    print(-1)\n",
    "    \n"
   ]
  },
  {
   "cell_type": "code",
   "execution_count": 38,
   "metadata": {},
   "outputs": [],
   "source": [
    "n, m = map(int,input().split())\n"
   ]
  },
  {
   "cell_type": "code",
   "execution_count": 42,
   "metadata": {},
   "outputs": [],
   "source": [
    "# graph = []\n",
    "# for _ in range(m):\n",
    "#     graph.append(list(map(int,input().split())))"
   ]
  },
  {
   "cell_type": "code",
   "execution_count": 43,
   "metadata": {},
   "outputs": [],
   "source": [
    "graph = [[2,0,0,0,1,1,0],\n",
    "         [0,0,1,0,1,2,0],\n",
    "         [0,1,1,0,1,0,0],\n",
    "         [0,1,0,0,0,0,0],\n",
    "         [0,0,0,0,0,1,1],\n",
    "         [0,1,0,0,0,0,0],\n",
    "         [0,1,0,0,0,0,0]]"
   ]
  },
  {
   "cell_type": "code",
   "execution_count": 44,
   "metadata": {},
   "outputs": [
    {
     "output_type": "stream",
     "name": "stdout",
     "text": [
      "2 0 0 0 1 1 0 \n0 0 1 0 1 2 0 \n0 1 1 0 1 0 0 \n0 1 0 0 0 0 0 \n0 0 0 0 0 1 1 \n0 1 0 0 0 0 0 \n0 1 0 0 0 0 0 \n"
     ]
    }
   ],
   "source": [
    "for row in range(len(graph)):\n",
    "    for col in range(len(graph[row])):\n",
    "        print(graph[row][col] ,end = \" \")\n",
    "    print()"
   ]
  },
  {
   "cell_type": "code",
   "execution_count": 45,
   "metadata": {},
   "outputs": [
    {
     "output_type": "error",
     "ename": "SyntaxError",
     "evalue": "unexpected EOF while parsing (<ipython-input-45-080eb776157b>, line 7)",
     "traceback": [
      "\u001b[1;36m  File \u001b[1;32m\"<ipython-input-45-080eb776157b>\"\u001b[1;36m, line \u001b[1;32m7\u001b[0m\n\u001b[1;33m    \u001b[0m\n\u001b[1;37m    ^\u001b[0m\n\u001b[1;31mSyntaxError\u001b[0m\u001b[1;31m:\u001b[0m unexpected EOF while parsing\n"
     ]
    }
   ],
   "source": [
    "def isInside(row, col):\n",
    "    if 0<=row<n and 0<=col<m:\n",
    "        return True\n",
    "    return False\n"
   ]
  },
  {
   "cell_type": "code",
   "execution_count": 50,
   "metadata": {},
   "outputs": [],
   "source": [
    "for row in range(len(graph)):\n",
    "    for col in range(len(graph[row])):\n",
    "        if graph[row][col] == 2:\n",
    "            virus_row = row\n",
    "            virus_col = col\n",
    "            # print(row, col)\n",
    "\n",
    "            virusLeft_row, virusLeft_col = row - 1, virus_col\n",
    "            virusRight_row, virusRight_col = row + 1, virus_col\n",
    "            virusUp_col, virusUp_row = col + 1, virus_row\n",
    "            virusDown_col, virusDown_row = col - 1, virus_row\n",
    "\n",
    "            for row,col in ((virusLeft_row, virusLeft_col), (virusRight_row, virusRight_col), (virusUp_row, virusUp_col), (virusDown_row, virusDown_col)):\n",
    "                 if isInside(row, col):\n",
    "                     if graph[row][col] == 0:\n",
    "                         graph[row][col] = 1\n",
    "                        \n",
    "\n",
    "                \n",
    "            \n"
   ]
  },
  {
   "cell_type": "code",
   "execution_count": 51,
   "metadata": {},
   "outputs": [
    {
     "output_type": "execute_result",
     "data": {
      "text/plain": [
       "[[2, 1, 0, 0, 1, 1, 0],\n",
       " [1, 0, 1, 0, 1, 2, 1],\n",
       " [0, 1, 1, 0, 1, 1, 0],\n",
       " [0, 1, 0, 0, 0, 0, 0],\n",
       " [0, 0, 0, 0, 0, 1, 1],\n",
       " [0, 1, 0, 0, 0, 0, 0],\n",
       " [0, 1, 0, 0, 0, 0, 0]]"
      ]
     },
     "metadata": {},
     "execution_count": 51
    }
   ],
   "source": [
    "graph"
   ]
  },
  {
   "cell_type": "code",
   "execution_count": 53,
   "metadata": {},
   "outputs": [],
   "source": [
    "count = 0\n",
    "for row in range(len(graph)):\n",
    "    for col in range(len(graph[row])):\n",
    "        if graph[row][col] == 0:\n",
    "            count += 1"
   ]
  },
  {
   "cell_type": "code",
   "execution_count": 54,
   "metadata": {},
   "outputs": [
    {
     "output_type": "execute_result",
     "data": {
      "text/plain": [
       "31"
      ]
     },
     "metadata": {},
     "execution_count": 54
    }
   ],
   "source": [
    "count"
   ]
  },
  {
   "cell_type": "code",
   "execution_count": null,
   "metadata": {},
   "outputs": [],
   "source": []
  }
 ]
}