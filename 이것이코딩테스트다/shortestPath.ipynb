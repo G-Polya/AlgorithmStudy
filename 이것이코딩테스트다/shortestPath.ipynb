{
 "metadata": {
  "language_info": {
   "codemirror_mode": {
    "name": "ipython",
    "version": 3
   },
   "file_extension": ".py",
   "mimetype": "text/x-python",
   "name": "python",
   "nbconvert_exporter": "python",
   "pygments_lexer": "ipython3",
   "version": "3.8.3-final"
  },
  "orig_nbformat": 2,
  "kernelspec": {
   "name": "python3",
   "display_name": "Python 3",
   "language": "python"
  }
 },
 "nbformat": 4,
 "nbformat_minor": 2,
 "cells": [
  {
   "cell_type": "code",
   "execution_count": 1,
   "metadata": {},
   "outputs": [],
   "source": [
    "# 간단한 다익스트라\n",
    "n, m = map(int, input().split())\n",
    "start = int(input())\n",
    "INF = int(1e9)\n",
    "graph = [[] for i in range(n+1)]\n",
    "visted = [False] * (n+1)\n",
    "distance = [INF] * (n+1)\n",
    "\n",
    "for _ in range(m):\n",
    "    a,b,c = map(int,input().split())\n",
    "    graph[a].append((b,c))\n",
    "\n",
    "def get_smallest_node():\n",
    "    min_value = INF\n",
    "    index = 0\n",
    "    for i in range(1,n+1):\n",
    "        if distance[i] < min_value and not visted[i]:\n",
    "            min_value = distance[i]\n",
    "            index = i\n",
    "    return index\n",
    "\n",
    "\n",
    "\n",
    "\n"
   ]
  },
  {
   "cell_type": "code",
   "execution_count": 4,
   "metadata": {},
   "outputs": [
    {
     "output_type": "stream",
     "name": "stdout",
     "text": [
      "0\n2\n3\n1\n2\n4\n"
     ]
    }
   ],
   "source": [
    "def dijkstrea(start):\n",
    "    distance[start] = 0\n",
    "    visted[start] = True\n",
    "    for j in graph[start]:\n",
    "        distance[j[0]] = j[1]\n",
    "    \n",
    "    for i in range(n-1):\n",
    "        now = get_smallest_node()\n",
    "        visted[now] = True\n",
    "        for j in graph[now]:\n",
    "            cost = distance[now] + j[1]\n",
    "            if cost < distance[j[0]]:\n",
    "                distance[j[0]] = cost\n",
    "dijkstrea(start)\n",
    "\n",
    "for i in range(1,n+1):\n",
    "    if distance[i] == INF:\n",
    "        print(\"Infinity\")\n",
    "    else:\n",
    "        print(distance[i])"
   ]
  },
  {
   "cell_type": "code",
   "execution_count": 5,
   "metadata": {},
   "outputs": [],
   "source": [
    "# 개선된 다익스트라\n",
    "n, m = map(int, input().split())\n",
    "start = int(input())\n",
    "INF = int(1e9)\n",
    "graph = [[] for i in range(n+1)]\n",
    "visted = [False] * (n+1)\n",
    "distance = [INF] * (n+1)\n",
    "\n",
    "for _ in range(m):\n",
    "    a,b,c = map(int,input().split())\n",
    "    graph[a].append((b,c))\n",
    "\n",
    "def get_smallest_node():\n",
    "    min_value = INF\n",
    "    index = 0\n",
    "    for i in range(1,n+1):\n",
    "        if distance[i] < min_value and not visted[i]:\n",
    "            min_value = distance[i]\n",
    "            index = i\n",
    "    return index"
   ]
  },
  {
   "cell_type": "code",
   "execution_count": 6,
   "metadata": {},
   "outputs": [
    {
     "output_type": "execute_result",
     "data": {
      "text/plain": [
       "[[],\n",
       " [(2, 2), (3, 5), (4, 1)],\n",
       " [(3, 3), (4, 2)],\n",
       " [(2, 3), (6, 5)],\n",
       " [(3, 3), (5, 1)],\n",
       " [(3, 1), (6, 2)],\n",
       " []]"
      ]
     },
     "metadata": {},
     "execution_count": 6
    }
   ],
   "source": [
    "graph"
   ]
  },
  {
   "cell_type": "code",
   "execution_count": 7,
   "metadata": {},
   "outputs": [
    {
     "output_type": "stream",
     "name": "stdout",
     "text": [
      "0\n2\n3\n1\n2\n4\n"
     ]
    }
   ],
   "source": [
    "import heapq\n",
    "def dijkstra(start):\n",
    "    q = []\n",
    "    heapq.heappush(q,(0,start))\n",
    "    distance[start] = 0\n",
    "\n",
    "    while q:\n",
    "        dist, now = heapq.heappop(q)\n",
    "\n",
    "        if distance[now] < dist:\n",
    "            continue\n",
    "\n",
    "        for i in graph[now]:\n",
    "            cost = dist + i[1]\n",
    "            if cost < distance[i[0]]:\n",
    "                distance[i[0]] = cost\n",
    "                heapq.heappush(q, (cost,i[0]))\n",
    "dijkstra(start)\n",
    "for i in range(1,n+1):\n",
    "    if distance[i] == INF:\n",
    "        print(\"Infinity\")\n",
    "    else:\n",
    "        print(distance[i])"
   ]
  },
  {
   "cell_type": "code",
   "execution_count": 4,
   "metadata": {},
   "outputs": [],
   "source": [
    "# 플로이드 워셜\n",
    "INF = int(1e9)\n",
    "n = int(input())\n",
    "m = int(input())\n",
    "graph = [[INF] * (n+1) for _ in range(n+1)]\n",
    "for a in range(1, n+1):\n",
    "    for b in range(1,n+1):\n",
    "        if a == b:\n",
    "            graph[a][b] == 0\n",
    "\n",
    "for _ in range(m):\n",
    "    a,b,c = map(int,input().split()) # a에서 b로 갈때 비용 c\n",
    "    graph[a][b] = c"
   ]
  },
  {
   "cell_type": "code",
   "execution_count": 5,
   "metadata": {},
   "outputs": [
    {
     "output_type": "execute_result",
     "data": {
      "text/plain": [
       "[[1000000000, 1000000000, 1000000000, 1000000000, 1000000000],\n",
       " [1000000000, 1000000000, 4, 1000000000, 6],\n",
       " [1000000000, 3, 1000000000, 7, 1000000000],\n",
       " [1000000000, 5, 1000000000, 1000000000, 4],\n",
       " [1000000000, 1000000000, 1000000000, 2, 1000000000]]"
      ]
     },
     "metadata": {},
     "execution_count": 5
    }
   ],
   "source": [
    "graph"
   ]
  },
  {
   "cell_type": "code",
   "execution_count": 7,
   "metadata": {},
   "outputs": [
    {
     "output_type": "stream",
     "name": "stdout",
     "text": [
      "7 4 8 6 \n3 7 7 9 \n5 9 6 4 \n7 11 2 6 \n"
     ]
    }
   ],
   "source": [
    "for k in range(1,n+1): # 거쳐가는 노드\n",
    "    for a in range(1,n+1): # a에서\n",
    "        for b in range(1,n+1): # b로\n",
    "            graph[a][b] = min(graph[a][b], graph[a][k] + graph[k][b])\n",
    "\n",
    "for a in range(1,n+1):\n",
    "    for b in range(1,n+1):\n",
    "        if graph[a][b] == INF:\n",
    "            print(\"INFINITY\", end=\" \")\n",
    "        else:\n",
    "            print(graph[a][b], end=\" \")\n",
    "    print()"
   ]
  },
  {
   "cell_type": "code",
   "execution_count": null,
   "metadata": {},
   "outputs": [],
   "source": []
  }
 ]
}