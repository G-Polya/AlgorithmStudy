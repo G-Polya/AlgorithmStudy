{
 "metadata": {
  "language_info": {
   "codemirror_mode": {
    "name": "ipython",
    "version": 3
   },
   "file_extension": ".py",
   "mimetype": "text/x-python",
   "name": "python",
   "nbconvert_exporter": "python",
   "pygments_lexer": "ipython3",
   "version": "3.8.3-final"
  },
  "orig_nbformat": 2,
  "kernelspec": {
   "name": "python3",
   "display_name": "Python 3",
   "language": "python"
  }
 },
 "nbformat": 4,
 "nbformat_minor": 2,
 "cells": [
  {
   "cell_type": "code",
   "execution_count": 52,
   "metadata": {},
   "outputs": [
    {
     "output_type": "stream",
     "name": "stdout",
     "text": [
      "[3, 4]\n"
     ]
    }
   ],
   "source": [
    "# 예제 4-1 상하좌우 내 풀이\n",
    "n = int(input())                 # 5\n",
    "movePlan = list(input().split()) # R R R U D D\n",
    "position = [1,1]\n",
    "\n",
    "for move in movePlan:\n",
    "    if move == 'R':\n",
    "        if position[1] == len(movePlan): # 오른쪽 끝에 막히면\n",
    "            continue\n",
    "        position[1] += 1\n",
    "    elif move == 'L':                    # 왼쪽 끝에 막히면\n",
    "        if position[1] == 1:\n",
    "            continue\n",
    "        position[1] -= 1\n",
    "\n",
    "    elif move == 'U':                    # 위쪽 끝에 막히면 \n",
    "        if position[0] == 1:\n",
    "            continue\n",
    "        position[0] -= 1\n",
    "    elif move == 'D':                    # 아래쪽 끝에 막히면\n",
    "        if position[0] == len(movePlan):\n",
    "            continue\n",
    "        position[0] += 1\n",
    "print(position)\n"
   ]
  },
  {
   "cell_type": "code",
   "execution_count": 53,
   "metadata": {},
   "outputs": [
    {
     "output_type": "stream",
     "name": "stdout",
     "text": [
      "3 4\n"
     ]
    }
   ],
   "source": [
    "# 상하좌우 나동빈\n",
    "n = int(input())\n",
    "x, y = 1,1\n",
    "plans = list(input().split())\n",
    "\n",
    "dx = [0,0,-1,1]\n",
    "dy = [-1,1,0,0]\n",
    "move_types = ['L', 'R', 'U', 'D']\n",
    "\n",
    "for plan in plans:\n",
    "    for i in range(len(move_types)):\n",
    "        if plan == move_types[i]:\n",
    "            nx = x + dx[i]\n",
    "            ny = y + dy[i]\n",
    "        \n",
    "    if nx < 1 or n < 1 or nx > n or ny > n:\n",
    "        continue\n",
    "    x,y = nx, ny\n",
    "   # print(plan, x, y)\n",
    "print(x,y)\n"
   ]
  },
  {
   "cell_type": "code",
   "execution_count": 54,
   "metadata": {
    "tags": []
   },
   "outputs": [
    {
     "output_type": "stream",
     "name": "stdout",
     "text": [
      "21600\n14400\n"
     ]
    }
   ],
   "source": [
    "# 예제 4-2 시각 나의 풀이\n",
    "n = int(input())\n",
    "count = 0\n",
    "\n",
    "hour, minute, second = n, 60, 60\n",
    "\n",
    "\n",
    "for i in range(hour+1):\n",
    "    for j in range(minute):\n",
    "        for k in range(second):\n",
    "            if k // 10 == 3 : # 30 31 32 33 34 35 36 37 38 39\n",
    "                count += 1\n",
    "            elif k % 10 ==3 : # 3 13 23  43 53\n",
    "                count += 1\n",
    "\n",
    "            if j // 10 == 3:\n",
    "                count+=1\n",
    "            elif k % 10 == 3:\n",
    "                count += 1\n",
    "\n",
    "            \n",
    "            if i % 10 == 3:\n",
    "                count += 1\n",
    "\n",
    "\n",
    "print(count)\n"
   ]
  },
  {
   "cell_type": "code",
   "execution_count": 1,
   "metadata": {},
   "outputs": [
    {
     "output_type": "stream",
     "name": "stdout",
     "text": [
      "11475\n"
     ]
    }
   ],
   "source": [
    "# 시각 나동빈\n",
    "hour = int(input())\n",
    "minute, second = 60,60\n",
    "count = 0\n",
    "for i in range(hour+1):\n",
    "    for j in range(minute):\n",
    "        for k in range(second):\n",
    "            if '3' in str(i)+str(j)+str(k):\n",
    "                count += 1\n",
    "print(count)"
   ]
  },
  {
   "cell_type": "code",
   "execution_count": 24,
   "metadata": {},
   "outputs": [
    {
     "output_type": "stream",
     "name": "stdout",
     "text": [
      "2\n"
     ]
    }
   ],
   "source": [
    "# 왕실의 나이트  내풀이\n",
    "\n",
    "matrix = []\n",
    "for i in range(8):\n",
    "    temp = []\n",
    "    for j in range(8):\n",
    "        temp.append(0)\n",
    "    matrix.append(temp)\n",
    "\n",
    "\n",
    "for i in range(len(matrix)):\n",
    "    for j in range(len(matrix[0])):\n",
    "        if (i==0 and j == 0) or (i==0 and j==7) or (i==7 and j==0) or (i==7 and j==7):\n",
    "            matrix[i][j] = 2\n",
    "        else:\n",
    "            if(i>=2 and i<=5) and(j>=2 and j<=5):\n",
    "                matrix[i][j] = 4\n",
    "            else:\n",
    "                matrix[i][j] = 3\n",
    "\n",
    "ch = input()\n",
    "ch_map = {'a':0,'b':1, 'c':2,'d':3,'e':4, 'f':5, 'g':6, 'h':7}\n",
    "row = ch_map[ch[0]]\n",
    "col = int(ch[1])-1\n",
    "count = 0\n",
    "for i in range(len(matrix)):\n",
    "    for j in range(len(matrix[0])):\n",
    "        if i == col and j == row:\n",
    "            count = matrix[i][j]\n",
    "\n",
    "print(count)\n",
    "            "
   ]
  },
  {
   "cell_type": "code",
   "execution_count": 29,
   "metadata": {},
   "outputs": [
    {
     "output_type": "stream",
     "name": "stdout",
     "text": [
      "2\n"
     ]
    }
   ],
   "source": [
    "ch = input()\n",
    "col = ord(ch[0])-ord('a')+1\n",
    "row = int(ch[1])\n",
    "\n",
    "steps = [(-2,-1),(-2,1),\n",
    "         (2, -1),(2, 1),\n",
    "         (1,-2), (1, 2),\n",
    "         (-1,-2),(-1,-2)]\n",
    "\n",
    "count = 0\n",
    "for step in steps:\n",
    "    next_row = row + step[0]\n",
    "    next_col = col + step[1]\n",
    "\n",
    "    if next_row >=1 and next_row <=8 and next_col>=1 and next_col<=8:\n",
    "        count += 1\n",
    "print(count)"
   ]
  },
  {
   "cell_type": "code",
   "execution_count": null,
   "metadata": {},
   "outputs": [],
   "source": []
  }
 ]
}