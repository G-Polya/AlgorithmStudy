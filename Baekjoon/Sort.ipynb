{
 "metadata": {
  "language_info": {
   "codemirror_mode": {
    "name": "ipython",
    "version": 3
   },
   "file_extension": ".py",
   "mimetype": "text/x-python",
   "name": "python",
   "nbconvert_exporter": "python",
   "pygments_lexer": "ipython3",
   "version": "3.8.5-final"
  },
  "orig_nbformat": 2,
  "kernelspec": {
   "name": "python3",
   "display_name": "Python 3",
   "language": "python"
  }
 },
 "nbformat": 4,
 "nbformat_minor": 2,
 "cells": [
  {
   "cell_type": "code",
   "execution_count": 7,
   "metadata": {},
   "outputs": [
    {
     "output_type": "stream",
     "name": "stdout",
     "text": [
      "1\n2\n3\n4\n5\n"
     ]
    }
   ],
   "source": [
    "#1 수 정렬하기\n",
    "n = int(input())\n",
    "arr = []\n",
    "for i in range(n):\n",
    "    element = int(input())\n",
    "    arr.append(element)\n",
    "\n",
    "arr.sort()\n",
    "for element in arr:\n",
    "    print(element, end=\"\\n\")"
   ]
  },
  {
   "cell_type": "code",
   "execution_count": 10,
   "metadata": {},
   "outputs": [
    {
     "output_type": "stream",
     "name": "stdout",
     "text": [
      "1\n2\n3\n4\n5\n"
     ]
    }
   ],
   "source": [
    "# 시간복잡도 O(nlogn) >> PyPy3에서 실행하면됨\n",
    "n = int(input())\n",
    "arr = []\n",
    "for i in range(n):\n",
    "    element = int(input())\n",
    "    arr.append(element)\n",
    "\n",
    "arr.sort()\n",
    "for element in arr:\n",
    "    print(element, end=\"\\n\")\n"
   ]
  },
  {
   "cell_type": "code",
   "execution_count": 3,
   "metadata": {},
   "outputs": [
    {
     "output_type": "stream",
     "name": "stdout",
     "text": [
      "1 1 2 2 3 3 4 5 5 7 "
     ]
    }
   ],
   "source": [
    "# counting sort(계수정렬)\n",
    "n = int(input())\n",
    "arr = []\n",
    "for i in range(n):\n",
    "    element = int(sys.stdin.readline)\n",
    "    arr.append(element)\n",
    "# arr = list(map(int, input().split()))\n",
    "\n",
    "\n",
    "count = [0] * (len(arr)+1)\n",
    "\n",
    "for i in range(len(arr)):\n",
    "    count[arr[i]] += 1\n",
    "\n",
    "for i in range(len(count)):\n",
    "    for j in range(count[i]):\n",
    "        print(i, end='\\n')"
   ]
  },
  {
   "cell_type": "code",
   "execution_count": null,
   "metadata": {},
   "outputs": [],
   "source": []
  }
 ]
}